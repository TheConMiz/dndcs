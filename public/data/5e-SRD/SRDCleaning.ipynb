{
 "cells": [
  {
   "cell_type": "code",
   "execution_count": 1,
   "metadata": {},
   "outputs": [
    {
     "name": "stdout",
     "output_type": "stream",
     "text": [
      "<class 'pandas.core.frame.DataFrame'>\n",
      "RangeIndex: 319 entries, 0 to 318\n",
      "Data columns (total 68 columns):\n",
      " #   Column             Non-Null Count  Dtype \n",
      "---  ------             --------------  ----- \n",
      " 0   index              319 non-null    int64 \n",
      " 1   name               319 non-null    object\n",
      " 2   desc/0             319 non-null    object\n",
      " 3   higher_level/0     87 non-null     object\n",
      " 4   page               319 non-null    object\n",
      " 5   range              319 non-null    object\n",
      " 6   components/0       319 non-null    object\n",
      " 7   components/1       289 non-null    object\n",
      " 8   components/2       174 non-null    object\n",
      " 9   material           184 non-null    object\n",
      " 10  ritual             319 non-null    object\n",
      " 11  duration           319 non-null    object\n",
      " 12  concentration      319 non-null    object\n",
      " 13  casting_time       319 non-null    object\n",
      " 14  level              319 non-null    int64 \n",
      " 15  school/name        319 non-null    object\n",
      " 16  school/url         319 non-null    object\n",
      " 17  classes/0/name     319 non-null    object\n",
      " 18  classes/0/url      319 non-null    object\n",
      " 19  subclasses/0/name  185 non-null    object\n",
      " 20  subclasses/0/url   185 non-null    object\n",
      " 21  subclasses/1/name  44 non-null     object\n",
      " 22  subclasses/1/url   44 non-null     object\n",
      " 23  url                319 non-null    object\n",
      " 24  desc/1             239 non-null    object\n",
      " 25  classes/1/name     238 non-null    object\n",
      " 26  classes/1/url      238 non-null    object\n",
      " 27  desc/2             155 non-null    object\n",
      " 28  desc/3             91 non-null     object\n",
      " 29  desc/4             59 non-null     object\n",
      " 30  desc/5             44 non-null     object\n",
      " 31  desc/6             34 non-null     object\n",
      " 32  classes/2/name     135 non-null    object\n",
      " 33  classes/2/url      135 non-null    object\n",
      " 34  classes/3/name     62 non-null     object\n",
      " 35  classes/3/url      62 non-null     object\n",
      " 36  desc/7             27 non-null     object\n",
      " 37  desc/8             20 non-null     object\n",
      " 38  desc/9             18 non-null     object\n",
      " 39  desc/10            15 non-null     object\n",
      " 40  classes/4/name     18 non-null     object\n",
      " 41  classes/4/url      18 non-null     object\n",
      " 42  subclasses/2/name  3 non-null      object\n",
      " 43  subclasses/2/url   3 non-null      object\n",
      " 44  desc/11            14 non-null     object\n",
      " 45  desc/12            12 non-null     object\n",
      " 46  desc/13            9 non-null      object\n",
      " 47  desc/14            8 non-null      object\n",
      " 48  classes/5/name     5 non-null      object\n",
      " 49  classes/5/url      5 non-null      object\n",
      " 50  classes/6/name     2 non-null      object\n",
      " 51  classes/6/url      2 non-null      object\n",
      " 52  desc/15            6 non-null      object\n",
      " 53  desc/16            6 non-null      object\n",
      " 54  desc/17            5 non-null      object\n",
      " 55  desc/18            4 non-null      object\n",
      " 56  desc/19            3 non-null      object\n",
      " 57  desc/20            3 non-null      object\n",
      " 58  desc/21            2 non-null      object\n",
      " 59  desc/22            2 non-null      object\n",
      " 60  desc/23            1 non-null      object\n",
      " 61  desc/24            1 non-null      object\n",
      " 62  desc/25            1 non-null      object\n",
      " 63  desc/26            1 non-null      object\n",
      " 64  desc/27            1 non-null      object\n",
      " 65  desc/28            1 non-null      object\n",
      " 66  desc/29            1 non-null      object\n",
      " 67  desc/30            1 non-null      object\n",
      "dtypes: int64(2), object(66)\n",
      "memory usage: 169.6+ KB\n"
     ]
    }
   ],
   "source": [
    "# Import Statements \r\n",
    "import pandas as pd"
   ]
  },
  {
   "cell_type": "code",
   "execution_count": 2,
   "metadata": {},
   "outputs": [
    {
     "name": "stdout",
     "output_type": "stream",
     "text": [
      "['index', 'name', 'desc/0', 'higher_level/0', 'page', 'range', 'components/0', 'components/1', 'components/2', 'material', 'ritual', 'duration', 'concentration', 'casting_time', 'level', 'school/name', 'school/url', 'classes/0/name', 'classes/0/url', 'subclasses/0/name', 'subclasses/0/url', 'subclasses/1/name', 'subclasses/1/url', 'url', 'desc/1', 'classes/1/name', 'classes/1/url', 'desc/2', 'desc/3', 'desc/4', 'desc/5', 'desc/6', 'classes/2/name', 'classes/2/url', 'classes/3/name', 'classes/3/url', 'desc/7', 'desc/8', 'desc/9', 'desc/10', 'classes/4/name', 'classes/4/url', 'subclasses/2/name', 'subclasses/2/url', 'desc/11', 'desc/12', 'desc/13', 'desc/14', 'classes/5/name', 'classes/5/url', 'classes/6/name', 'classes/6/url', 'desc/15', 'desc/16', 'desc/17', 'desc/18', 'desc/19', 'desc/20', 'desc/21', 'desc/22', 'desc/23', 'desc/24', 'desc/25', 'desc/26', 'desc/27', 'desc/28', 'desc/29', 'desc/30']\n"
     ]
    }
   ],
   "source": [
    "# Spell CSV\r\n",
    "df = pd.read_csv(\"5e-SRD-Spells.csv\")\r\n",
    "\r\n",
    "columnList = df.columns.tolist()\r\n",
    "\r\n",
    "print(columnList)\r\n"
   ]
  }
 ],
 "metadata": {
  "interpreter": {
   "hash": "04599353301972a4177495fb87ba9328f666fdd8bb33e7641e5bb86b309132ff"
  },
  "kernelspec": {
   "display_name": "Python 3.9.4 64-bit",
   "name": "python3"
  },
  "language_info": {
   "codemirror_mode": {
    "name": "ipython",
    "version": 3
   },
   "file_extension": ".py",
   "mimetype": "text/x-python",
   "name": "python",
   "nbconvert_exporter": "python",
   "pygments_lexer": "ipython3",
   "version": "3.9.4"
  },
  "orig_nbformat": 4
 },
 "nbformat": 4,
 "nbformat_minor": 2
}